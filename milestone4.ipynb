{
 "cells": [
  {
   "cell_type": "code",
   "execution_count": 2,
   "metadata": {},
   "outputs": [],
   "source": [
    "import shapely\n",
    "from shapely.geometry import Point, Polygon, LineString, GeometryCollection"
   ]
  },
  {
   "cell_type": "code",
   "execution_count": 3,
   "metadata": {},
   "outputs": [],
   "source": [
    "class polygon:\n",
    "    def __init__(self,layer,datatype,noOfpoints):\n",
    "        self.layer = layer\n",
    "        self.datatype = datatype\n",
    "        self.noOfpoints = noOfpoints\n",
    "        self.points = []\n",
    "\n",
    "    def addPoints(self,points):\n",
    "        self.points.append(points.split(\" \"))"
   ]
  },
  {
   "attachments": {},
   "cell_type": "markdown",
   "metadata": {},
   "source": [
    "### Reading the source txt file"
   ]
  },
  {
   "cell_type": "code",
   "execution_count": 4,
   "metadata": {},
   "outputs": [
    {
     "name": "stdout",
     "output_type": "stream",
     "text": [
      "102560\n"
     ]
    }
   ],
   "source": [
    "source = []\n",
    "with open('./MileStone_Input/Milestone 4/Source.txt','r') as file:\n",
    "    for line in file:\n",
    "        source.append(line)\n",
    "\n",
    "i = 0\n",
    "\n",
    "source_header = []\n",
    "source_polygons = []\n",
    "source_footer = []\n",
    "\n",
    "while i<len(source):\n",
    "    if \"header\" in source[i]:\n",
    "        while source[i] != \"boundary\\n\":\n",
    "            source_header.append(source[i])\n",
    "            i+=1\n",
    "    \n",
    "    elif \"boundary\" in source[i]:\n",
    "        p1 = polygon(source[i+1].split(\" \")[1],source[i+2].split(\" \")[1],source[i+3].split(\"  \")[1])\n",
    "        for p in range(2,2+int(p1.noOfpoints)):\n",
    "            p1.addPoints(source[i+3].split(\"  \")[p])\n",
    "        source_polygons.append(p1)\n",
    "        i+=4\n",
    "    elif 'endstr' in source[i] or 'endlib' in source[i]:\n",
    "        source_footer.append(source[i])\n",
    "        i+=1\n",
    "    else:\n",
    "        i+=1\n",
    "\n",
    "print(len(source_polygons))"
   ]
  },
  {
   "cell_type": "code",
   "execution_count": 5,
   "metadata": {},
   "outputs": [
    {
     "name": "stdout",
     "output_type": "stream",
     "text": [
      "['header 600 \\n', 'bgnlib 1/17/2023 23:11:40 1/17/2023 23:11:40 \\n', 'libname egdslib\\n', 'units 0.0001 1e-10 \\n', '\\n', 'bgnstr 1/17/2023 23:11:40 1/17/2023 23:11:40 \\n', 'strname top\\n', '\\n']\n",
      "[<__main__.polygon object at 0x0000028DA0CE0220>, <__main__.polygon object at 0x0000028DCD6A3580>]\n",
      "['endstr\\n', 'endlib\\n']\n"
     ]
    }
   ],
   "source": [
    "poi = []\n",
    "with open('./MileStone_Input/Milestone 4/POI.txt','r') as file:\n",
    "    for line in file:\n",
    "        poi.append(line)\n",
    "\n",
    "i = 0\n",
    "\n",
    "poi_header = []\n",
    "poi_polygons = []\n",
    "poi_footer = []\n",
    "\n",
    "while i<len(poi):\n",
    "    if \"header\" in poi[i]:\n",
    "        while poi[i] != \"boundary\\n\":\n",
    "            poi_header.append(poi[i])\n",
    "            i+=1\n",
    "    \n",
    "    elif \"boundary\" in poi[i]:\n",
    "        p1 = polygon(poi[i+1].split(\" \")[1],poi[i+2].split(\" \")[1],poi[i+3].split(\"  \")[1])\n",
    "        for p in range(2,2+int(p1.noOfpoints)):\n",
    "            p1.addPoints(poi[i+3].split(\"  \")[p])\n",
    "        poi_polygons.append(p1)\n",
    "        i+=4\n",
    "    elif 'endstr' in poi[i] or 'endlib' in poi[i]:\n",
    "        poi_footer.append(poi[i])\n",
    "        i+=1\n",
    "    else:\n",
    "        i+=1\n",
    "\n",
    "print(poi_header)\n",
    "print(poi_polygons)\n",
    "print(poi_footer)"
   ]
  },
  {
   "cell_type": "code",
   "execution_count": 23,
   "metadata": {},
   "outputs": [
    {
     "data": {
      "image/svg+xml": "<svg xmlns=\"http://www.w3.org/2000/svg\" xmlns:xlink=\"http://www.w3.org/1999/xlink\" width=\"300\" height=\"300\" viewBox=\"2482.4 1862.4 3985.2000000000003 1285.1999999999998\" preserveAspectRatio=\"xMinYMin meet\"><g transform=\"matrix(1,0,0,-1,0,5010.0)\"><path fill-rule=\"evenodd\" fill=\"#66cc99\" stroke=\"#555555\" stroke-width=\"26.568\" opacity=\"0.6\" d=\"M 2630.0,2010.0 L 2630.0,3000.0 L 6320.0,3000.0 L 6320.0,2010.0 L 2630.0,2010.0 z\" /></g></svg>",
      "text/plain": [
       "<POLYGON ((2630 2010, 2630 3000, 6320 3000, 6320 2010, 2630 2010))>"
      ]
     },
     "execution_count": 23,
     "metadata": {},
     "output_type": "execute_result"
    }
   ],
   "source": [
    "int_points1 = []\n",
    "for point in poi_polygons[0].points:\n",
    "    temp = [int(point[0]),int(point[1])]\n",
    "    int_points1.append(temp)\n",
    "\n",
    "poi_poly = Polygon(int_points1)\n",
    "poi_poly"
   ]
  },
  {
   "cell_type": "code",
   "execution_count": 24,
   "metadata": {},
   "outputs": [
    {
     "data": {
      "image/svg+xml": "<svg xmlns=\"http://www.w3.org/2000/svg\" xmlns:xlink=\"http://www.w3.org/1999/xlink\" width=\"300\" height=\"300\" viewBox=\"3868.8 -1151.2 1272.3999999999996 2732.4\" preserveAspectRatio=\"xMinYMin meet\"><g transform=\"matrix(1,0,0,-1,0,430.0)\"><path fill-rule=\"evenodd\" fill=\"#66cc99\" stroke=\"#555555\" stroke-width=\"18.216\" opacity=\"0.6\" d=\"M 3970.0,-1050.0 L 3970.0,1480.0 L 5040.0,1480.0 L 5040.0,-1050.0 L 3970.0,-1050.0 z\" /></g></svg>",
      "text/plain": [
       "<POLYGON ((3970 -1050, 3970 1480, 5040 1480, 5040 -1050, 3970 -1050))>"
      ]
     },
     "execution_count": 24,
     "metadata": {},
     "output_type": "execute_result"
    }
   ],
   "source": [
    "int_points2 = []\n",
    "for point in poi_polygons[1].points:\n",
    "    temp = [int(point[0]),int(point[1])]\n",
    "    int_points2.append(temp)\n",
    "\n",
    "poi_poly = Polygon(int_points2)\n",
    "poi_poly"
   ]
  },
  {
   "cell_type": "code",
   "execution_count": 21,
   "metadata": {},
   "outputs": [],
   "source": [
    "def polygon_area(vertex):\n",
    "    n = len(vertex)\n",
    "    area = 0.0\n",
    "    for i in range(n):\n",
    "        j = (i + 1) % n\n",
    "        area += int(vertex[i][0]) * int(vertex[j][1])\n",
    "        area -= int(vertex[j][0]) * int(vertex[i][1])\n",
    "    area = abs(area) / 2.0\n",
    "    return area"
   ]
  },
  {
   "cell_type": "code",
   "execution_count": 26,
   "metadata": {},
   "outputs": [],
   "source": [
    "poi_area1 = polygon_area(int_points1)\n",
    "poi_area2 = polygon_area(int_points2)\n",
    "\n",
    "poi_areas = [poi_area1,poi_area2]"
   ]
  },
  {
   "cell_type": "code",
   "execution_count": 27,
   "metadata": {},
   "outputs": [],
   "source": [
    "found_polygons = []\n",
    "source_areas = []\n",
    "for i in range(0,len(source_polygons)):\n",
    "    int_points = []\n",
    "    for point in source_polygons[i].points:\n",
    "        temp = [int(point[0]),int(point[1])]\n",
    "        int_points.append(temp)\n",
    "\n",
    "    source_area = polygon_area(int_points)\n",
    "    source_areas.append(source_area)\n"
   ]
  },
  {
   "cell_type": "code",
   "execution_count": 29,
   "metadata": {},
   "outputs": [],
   "source": [
    "polygonpoints = [int_points1,int_points2]"
   ]
  }
 ],
 "metadata": {
  "kernelspec": {
   "display_name": "Python 3",
   "language": "python",
   "name": "python3"
  },
  "language_info": {
   "codemirror_mode": {
    "name": "ipython",
    "version": 3
   },
   "file_extension": ".py",
   "mimetype": "text/x-python",
   "name": "python",
   "nbconvert_exporter": "python",
   "pygments_lexer": "ipython3",
   "version": "3.10.9"
  },
  "orig_nbformat": 4,
  "vscode": {
   "interpreter": {
    "hash": "e8899eb02dfbc033aab5733bdae1bd213fa031d40331094008e8673d99ebab63"
   }
  }
 },
 "nbformat": 4,
 "nbformat_minor": 2
}
