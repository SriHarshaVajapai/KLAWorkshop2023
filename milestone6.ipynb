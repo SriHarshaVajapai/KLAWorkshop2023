{
 "cells": [
  {
   "cell_type": "code",
   "execution_count": 8,
   "metadata": {},
   "outputs": [],
   "source": [
    "import shapely\n",
    "from shapely.geometry import Point, Polygon, LineString, GeometryCollection"
   ]
  },
  {
   "cell_type": "code",
   "execution_count": 9,
   "metadata": {},
   "outputs": [],
   "source": [
    "class polygon:\n",
    "    def __init__(self,layer,datatype,noOfpoints):\n",
    "        self.layer = layer\n",
    "        self.datatype = datatype\n",
    "        self.noOfpoints = noOfpoints\n",
    "        self.points = []\n",
    "\n",
    "    def addPoints(self,points):\n",
    "        self.points.append(points.split(\" \"))"
   ]
  },
  {
   "cell_type": "code",
   "execution_count": 10,
   "metadata": {},
   "outputs": [
    {
     "name": "stdout",
     "output_type": "stream",
     "text": [
      "4250\n"
     ]
    }
   ],
   "source": [
    "source = []\n",
    "with open('./MileStone_Input/Milestone 6/Source.txt','r') as file:\n",
    "    for line in file:\n",
    "        source.append(line)\n",
    "\n",
    "i = 0\n",
    "\n",
    "source_header = []\n",
    "source_polygons = []\n",
    "source_footer = []\n",
    "\n",
    "while i<len(source):\n",
    "    if \"header\" in source[i]:\n",
    "        while source[i] != \"boundary\\n\":\n",
    "            source_header.append(source[i])\n",
    "            i+=1\n",
    "    \n",
    "    elif \"boundary\" in source[i]:\n",
    "        p1 = polygon(source[i+1].split(\" \")[1],source[i+2].split(\" \")[1],source[i+3].split(\"  \")[1])\n",
    "        for p in range(2,2+int(p1.noOfpoints)):\n",
    "            p1.addPoints(source[i+3].split(\"  \")[p])\n",
    "        source_polygons.append(p1)\n",
    "        i+=4\n",
    "    elif 'endstr' in source[i] or 'endlib' in source[i]:\n",
    "        source_footer.append(source[i])\n",
    "        i+=1\n",
    "    else:\n",
    "        i+=1\n",
    "\n",
    "print(len(source_polygons))"
   ]
  },
  {
   "cell_type": "code",
   "execution_count": 11,
   "metadata": {},
   "outputs": [
    {
     "name": "stdout",
     "output_type": "stream",
     "text": [
      "['header 600 \\n', 'bgnlib 1/19/2023 14:39:49 1/19/2023 14:39:49 \\n', 'libname egdslib\\n', 'units 0.0001 1e-10 \\n', '\\n', 'bgnstr 1/19/2023 14:39:49 1/19/2023 14:39:49 \\n', 'strname t\\n', '\\n']\n",
      "[<__main__.polygon object at 0x000001B8667A0070>]\n",
      "['endstr\\n', 'endlib\\n']\n"
     ]
    }
   ],
   "source": [
    "poi = []\n",
    "with open('./MileStone_Input/Milestone 6/POI.txt','r') as file:\n",
    "    for line in file:\n",
    "        poi.append(line)\n",
    "\n",
    "i = 0\n",
    "\n",
    "poi_header = []\n",
    "poi_polygons = []\n",
    "poi_footer = []\n",
    "\n",
    "while i<len(poi):\n",
    "    if \"header\" in poi[i]:\n",
    "        while poi[i] != \"boundary\\n\":\n",
    "            poi_header.append(poi[i])\n",
    "            i+=1\n",
    "    \n",
    "    elif \"boundary\" in poi[i]:\n",
    "        p1 = polygon(poi[i+1].split(\" \")[1],poi[i+2].split(\" \")[1],poi[i+3].split(\"  \")[1])\n",
    "        for p in range(2,2+int(p1.noOfpoints)):\n",
    "            p1.addPoints(poi[i+3].split(\"  \")[p])\n",
    "        poi_polygons.append(p1)\n",
    "        i+=4\n",
    "    elif 'endstr' in poi[i] or 'endlib' in poi[i]:\n",
    "        poi_footer.append(poi[i])\n",
    "        i+=1\n",
    "    else:\n",
    "        i+=1\n",
    "\n",
    "print(poi_header)\n",
    "print(poi_polygons)\n",
    "print(poi_footer)"
   ]
  },
  {
   "cell_type": "code",
   "execution_count": 36,
   "metadata": {},
   "outputs": [],
   "source": [
    "def polygon_area(vertex):\n",
    "    n = len(vertex)\n",
    "    area = 0.0\n",
    "    for i in range(n):\n",
    "        j = (i + 1) % n\n",
    "        area += int(vertex[i][0]) * int(vertex[j][1])\n",
    "        area -= int(vertex[j][0]) * int(vertex[i][1])\n",
    "    area = abs(area) / 2.0\n",
    "    return area"
   ]
  },
  {
   "cell_type": "code",
   "execution_count": 47,
   "metadata": {},
   "outputs": [
    {
     "data": {
      "text/plain": [
       "3412800.0"
      ]
     },
     "execution_count": 47,
     "metadata": {},
     "output_type": "execute_result"
    }
   ],
   "source": [
    "int_points = []\n",
    "for point in poi_polygons[0].points:\n",
    "    temp = [int(point[0]),int(point[1])]\n",
    "    int_points.append(temp)\n",
    "\n",
    "poi_poly = Polygon(int_points)\n",
    "poi_poly.area"
   ]
  },
  {
   "cell_type": "code",
   "execution_count": 53,
   "metadata": {},
   "outputs": [
    {
     "data": {
      "text/plain": [
       "1000"
      ]
     },
     "execution_count": 53,
     "metadata": {},
     "output_type": "execute_result"
    }
   ],
   "source": [
    "found_polygons = []\n",
    "\n",
    "for i in range(0,len(source_polygons)):\n",
    "    int_points = []\n",
    "    for point in source_polygons[i].points:\n",
    "        temp = [int(point[0]),int(point[1])]\n",
    "        int_points.append(temp)\n",
    "\n",
    "    source_area = polygon_area(int_points)\n",
    "    if source_area == poi_poly.area:\n",
    "        found_polygons.append(source_polygons[i])\n",
    "\n",
    "len(found_polygons)"
   ]
  },
  {
   "cell_type": "code",
   "execution_count": null,
   "metadata": {},
   "outputs": [],
   "source": [
    "file1 = open(\"milestone6.txt\",\"w\")\n",
    " \n",
    "file1.writelines(source_header)\n",
    "file1.close()"
   ]
  },
  {
   "cell_type": "code",
   "execution_count": null,
   "metadata": {},
   "outputs": [],
   "source": [
    "output_polygons = []\n",
    "for i in range(0,len(found_polygons)):\n",
    "    output_polygons.append(\"boundary\\n\")\n",
    "    output_polygons.append(\"layer \"+found_polygons[i].layer)\n",
    "    output_polygons.append(\"datatype \"+found_polygons[i].datatype)\n",
    "    output_polygons.append(\"xy \"+found_polygons[i].noOfpoints)\n",
    "    for point in found_polygons[i].points:\n",
    "        output_polygons.append(\"  \"+point[0]+\" \"+point[1])\n",
    "    output_polygons.append('endel\\n')\n",
    "\n",
    "file1 = open(\"milestone6.txt\",\"a\")\n",
    "\n",
    "file1.writelines(output_polygons)\n",
    "file1.close()"
   ]
  },
  {
   "cell_type": "code",
   "execution_count": null,
   "metadata": {},
   "outputs": [],
   "source": [
    "file1 = open(\"milestone6.txt\",\"a\")\n",
    "\n",
    "file1.writelines(source_footer)\n",
    "file1.close()"
   ]
  }
 ],
 "metadata": {
  "kernelspec": {
   "display_name": "Python 3",
   "language": "python",
   "name": "python3"
  },
  "language_info": {
   "codemirror_mode": {
    "name": "ipython",
    "version": 3
   },
   "file_extension": ".py",
   "mimetype": "text/x-python",
   "name": "python",
   "nbconvert_exporter": "python",
   "pygments_lexer": "ipython3",
   "version": "3.10.9"
  },
  "orig_nbformat": 4,
  "vscode": {
   "interpreter": {
    "hash": "e8899eb02dfbc033aab5733bdae1bd213fa031d40331094008e8673d99ebab63"
   }
  }
 },
 "nbformat": 4,
 "nbformat_minor": 2
}
