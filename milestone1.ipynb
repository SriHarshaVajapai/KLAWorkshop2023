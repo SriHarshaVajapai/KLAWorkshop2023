{
 "cells": [
  {
   "cell_type": "code",
   "execution_count": 74,
   "metadata": {},
   "outputs": [],
   "source": [
    "class Polygon:\n",
    "    def __init__(self,layer,datatype,noOfpoints):\n",
    "        self.layer = layer\n",
    "        self.datatype = datatype\n",
    "        self.noOfpoints = noOfpoints\n",
    "        self.points = []\n",
    "\n",
    "    def addPoints(self,points):\n",
    "        self.points.append(points.split(\" \"))\n"
   ]
  },
  {
   "cell_type": "code",
   "execution_count": 75,
   "metadata": {},
   "outputs": [
    {
     "name": "stdout",
     "output_type": "stream",
     "text": [
      "['header 600 \\n', 'bgnlib 1/19/2023 19:25:24 1/19/2023 19:25:24 \\n', 'libname egdslib\\n', 'units 0.0001 1e-10 \\n', '\\n', 'bgnstr 1/19/2023 19:25:24 1/19/2023 19:25:24 \\n', 'strname top\\n', '\\n']\n",
      "[<__main__.Polygon object at 0x0000025372667100>, <__main__.Polygon object at 0x0000025371540610>, <__main__.Polygon object at 0x0000025371540760>, <__main__.Polygon object at 0x00000253715402B0>, <__main__.Polygon object at 0x0000025371541A20>]\n",
      "['endstr\\n', 'endlib\\n']\n"
     ]
    }
   ],
   "source": [
    "# reading the input txt file\n",
    "\n",
    "input = []\n",
    "with open('./MileStone_Input/Milestone 1/Format_Source.txt','r') as file:\n",
    "    for line in file:\n",
    "        input.append(line)\n",
    "\n",
    "i = 0\n",
    "\n",
    "header = []\n",
    "polygons = []\n",
    "footer = []\n",
    "\n",
    "while i<len(input):\n",
    "    if \"header\" in input[i]:\n",
    "        while input[i] != \"boundary\\n\":\n",
    "            header.append(input[i])\n",
    "            i+=1\n",
    "    \n",
    "    elif \"boundary\" in input[i]:\n",
    "        p1 = Polygon(input[i+1].split(\" \")[1],input[i+2].split(\" \")[1],input[i+3].split(\"  \")[1])\n",
    "        for p in range(2,2+int(p1.noOfpoints)):\n",
    "            p1.addPoints(input[i+3].split(\"  \")[p])\n",
    "        polygons.append(p1)\n",
    "        i+=4\n",
    "    elif 'endstr' in input[i] or 'endlib' in input[i]:\n",
    "        footer.append(input[i])\n",
    "        i+=1\n",
    "    else:\n",
    "        i+=1\n",
    "\n",
    "print(header)\n",
    "print(polygons)\n",
    "print(footer)\n",
    "\n"
   ]
  },
  {
   "attachments": {},
   "cell_type": "markdown",
   "metadata": {},
   "source": [
    "### Writing header lines"
   ]
  },
  {
   "cell_type": "code",
   "execution_count": 76,
   "metadata": {},
   "outputs": [],
   "source": [
    "file1 = open(\"milestone1.txt\",\"w\")\n",
    " \n",
    "file1.writelines(header)\n",
    "file1.close()"
   ]
  },
  {
   "attachments": {},
   "cell_type": "markdown",
   "metadata": {},
   "source": [
    "### Writing polygons"
   ]
  },
  {
   "cell_type": "code",
   "execution_count": 77,
   "metadata": {},
   "outputs": [],
   "source": [
    "output_polygons = []\n",
    "for i in range(0,2):\n",
    "    output_polygons.append(\"boundary\\n\")\n",
    "    output_polygons.append(\"layer \"+polygons[i].layer)\n",
    "    output_polygons.append(\"datatype \"+polygons[i].datatype)\n",
    "    output_polygons.append(\"xy \"+polygons[i].noOfpoints)\n",
    "    for point in polygons[i].points:\n",
    "        output_polygons.append(\"  \"+point[0]+\" \"+point[1])\n",
    "    output_polygons.append('endel\\n')\n",
    "\n",
    "file1 = open(\"milestone1.txt\",\"a\")\n",
    "\n",
    "file1.writelines(output_polygons)\n",
    "file1.close()\n",
    "\n"
   ]
  },
  {
   "attachments": {},
   "cell_type": "markdown",
   "metadata": {},
   "source": [
    "### Writing footer"
   ]
  },
  {
   "cell_type": "code",
   "execution_count": 78,
   "metadata": {},
   "outputs": [],
   "source": [
    "file1 = open(\"milestone1.txt\",\"a\")\n",
    "\n",
    "file1.writelines(footer)\n",
    "file1.close()"
   ]
  }
 ],
 "metadata": {
  "kernelspec": {
   "display_name": "Python 3",
   "language": "python",
   "name": "python3"
  },
  "language_info": {
   "codemirror_mode": {
    "name": "ipython",
    "version": 3
   },
   "file_extension": ".py",
   "mimetype": "text/x-python",
   "name": "python",
   "nbconvert_exporter": "python",
   "pygments_lexer": "ipython3",
   "version": "3.10.9"
  },
  "orig_nbformat": 4,
  "vscode": {
   "interpreter": {
    "hash": "e8899eb02dfbc033aab5733bdae1bd213fa031d40331094008e8673d99ebab63"
   }
  }
 },
 "nbformat": 4,
 "nbformat_minor": 2
}
